{
 "cells": [
  {
   "cell_type": "markdown",
   "metadata": {},
   "source": []
  },
  {
   "cell_type": "code",
   "execution_count": null,
   "metadata": {},
   "outputs": [],
   "source": [
    "import cv2\n",
    "import mediapipe as mp\n",
    "import numpy as np\n",
    "\n",
    "# 어떤것을 사용할것인지 설정\n",
    "mp_drawing = mp.solutions.drawing_utils\n",
    "mp_pose = mp.solutions.pose\n",
    "\n"
   ]
  },
  {
   "cell_type": "code",
   "execution_count": null,
   "metadata": {},
   "outputs": [],
   "source": [
    "#카메라 연결\n",
    "cap = cv2.VideoCapture(0)\n",
    "# 카메라가 열려있는 동안 반복\n",
    "while cap.isOpened():\n",
    "    # ret = return variable , frame = image\n",
    "    ret, frame = cap.read()\n",
    "    # imshow = 팝업표시, frame = 이미지\n",
    "    cv2.imshow('motion image', frame)\n",
    "    \n",
    "    #q를 눌렀는지 확인\n",
    "    if cv2.waitKey(10) & 0xFF == ord('q'):\n",
    "        # q누르면 끝냄\n",
    "        break\n",
    "    \n",
    "# 카메라해제\n",
    "cap.release()\n",
    "# 윈도우 내에서 카메라 종료\n",
    "cv2.destroyAllWindows"
   ]
  }
 ],
 "metadata": {
  "kernelspec": {
   "display_name": "Python 3.7.8 64-bit",
   "language": "python",
   "name": "python3"
  },
  "language_info": {
   "codemirror_mode": {
    "name": "ipython",
    "version": 3
   },
   "file_extension": ".py",
   "mimetype": "text/x-python",
   "name": "python",
   "nbconvert_exporter": "python",
   "pygments_lexer": "ipython3",
   "version": "3.7.8"
  },
  "orig_nbformat": 4,
  "vscode": {
   "interpreter": {
    "hash": "8c2dc7f55a4afb133f9671f18548a683b80d7f864af89313bd9839ac682f147f"
   }
  }
 },
 "nbformat": 4,
 "nbformat_minor": 2
}
